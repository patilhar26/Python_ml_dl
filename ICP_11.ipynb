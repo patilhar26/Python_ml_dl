{
  "nbformat": 4,
  "nbformat_minor": 0,
  "metadata": {
    "colab": {
      "name": "ICP_11.ipynb",
      "provenance": [],
      "collapsed_sections": [],
      "authorship_tag": "ABX9TyO/838Wcf9DDpFpAkiZ0zQE",
      "include_colab_link": true
    },
    "kernelspec": {
      "name": "python3",
      "display_name": "Python 3"
    },
    "accelerator": "GPU"
  },
  "cells": [
    {
      "cell_type": "markdown",
      "metadata": {
        "id": "view-in-github",
        "colab_type": "text"
      },
      "source": [
        "<a href=\"https://colab.research.google.com/github/patilhar26/Python_ml_dl/blob/main/ICP_11.ipynb\" target=\"_parent\"><img src=\"https://colab.research.google.com/assets/colab-badge.svg\" alt=\"Open In Colab\"/></a>"
      ]
    },
    {
      "cell_type": "code",
      "metadata": {
        "id": "WLSTgcI2QooG"
      },
      "source": [
        "##-------------------------------------------------------------------------------------------------------------\n",
        "# Student Name : Harshita Patil\n",
        "# Code for Question 1\n",
        "# Description:  Below program compares the performance (accuracy, loss) between Convolutional Neural Network models after and before adding the layers and doing the activation\n",
        "#function changes as given in question.\n",
        "##-------------------------------------------------------------------------------------------------------------\n",
        "# Imported the necessary libraries and created our environment\n",
        "# Keras is a high-level library.\n",
        "# # importing Numpy provides a high-performance multidimensional array and,\n",
        "# Basic tools to compute with and manipulate these arrays.\n",
        "import numpy\n",
        "# Importing cifar10 dataset. The CIFAR-10 dataset contains 60,000 32x32 color images in 10 different classes.\n",
        "from keras.datasets import cifar10\n",
        "# Sequential model is a linear stack of layers.\n",
        "from keras.models import Sequential\n",
        "from keras.layers import Dense, Flatten, Dropout, Input, BatchNormalization\n",
        "from keras.constraints import maxnorm\n",
        "from keras.models import Model\n",
        "from keras.optimizers import SGD, Adam\n",
        "from keras.layers.convolutional import Conv2D, MaxPooling2D\n",
        "# Keras provides numpy utility library, which provides functions to perform actions on numpy arrays.\n",
        "from keras.utils import np_utils\n",
        "from keras import backend as K\n",
        "# Sets the value of the image data format convention.\n",
        "K.set_image_data_format('channels_last')"
      ],
      "execution_count": 38,
      "outputs": []
    },
    {
      "cell_type": "code",
      "metadata": {
        "id": "gwIBy3zv5yfD"
      },
      "source": [
        "#Fix random seed for reproducibility\n",
        "# Using numpy.random.seed function that sets the random seed of the Numpy\n",
        "seed = 7\n",
        "numpy.random.seed(seed)"
      ],
      "execution_count": 39,
      "outputs": []
    },
    {
      "cell_type": "code",
      "metadata": {
        "id": "KLhGWeHjQ7lo",
        "outputId": "a2bce0b6-d127-4f59-f7fd-99d2ac701830",
        "colab": {
          "base_uri": "https://localhost:8080/"
        }
      },
      "source": [
        "# The CIFAR-10 dataset contains 60,000 32x32 color images in 10 different classes.\n",
        "# The 10 different classes represent airplanes, cars, birds, cats, deer, dogs, frogs, horses, ships, and trucks. There are 6,000 images of each class\n",
        "# Loading the data.\n",
        "(X_train, y_train), (X_test, y_test) = cifar10.load_data()\n",
        "# printing the shape of the Data\n",
        "print(X_train.shape[1:])"
      ],
      "execution_count": 40,
      "outputs": [
        {
          "output_type": "stream",
          "text": [
            "(32, 32, 3)\n"
          ],
          "name": "stdout"
        }
      ]
    },
    {
      "cell_type": "code",
      "metadata": {
        "id": "9R40T5rHRCge"
      },
      "source": [
        "# Normalize inputs from 0-255 to 0.0-1.0\n",
        "# Making sure that the values are float so that we can get decimal points after division\n",
        "#convert data to float and scale values between 0 and 1\n",
        "X_train = X_train.astype('float32')\n",
        "X_test = X_test.astype('float32')\n",
        "# Original data is (0-255). Scale it to range [0,1].\n",
        "X_train = X_train / 255.0\n",
        "X_test = X_test / 255.0\n",
        "yp=y_test\n"
      ],
      "execution_count": 41,
      "outputs": []
    },
    {
      "cell_type": "code",
      "metadata": {
        "id": "wTg12ofxRH60"
      },
      "source": [
        "#One hot encode outputs\n",
        "# one hot encoding is a representation of categorical variables as binary vectors. \n",
        "# np_utils.to_categorical is used to convert array of labeled data(from 0 to nb_classes - 1 ) to one-hot vector\n",
        "y_train = np_utils.to_categorical(y_train)\n",
        "y_test = np_utils.to_categorical(y_test)\n",
        "num_classes = y_test.shape[1]\n"
      ],
      "execution_count": 42,
      "outputs": []
    },
    {
      "cell_type": "code",
      "metadata": {
        "id": "e-28vJmPRMi5"
      },
      "source": [
        "# Creating model....\n",
        "# Sequential is a linear stack of layers.\n",
        "model = Sequential()\n",
        "# Convolutional layer,32 feature maps with a size of 3×3 and a rectifier activation function.\n",
        "model.add(Conv2D(32, (3, 3), input_shape=(X_train.shape[1:]), padding='same', activation='relu', kernel_constraint=maxnorm(3)))\n",
        "# Dropout layer at 20%.\n",
        "model.add(Dropout(0.2))\n",
        "# Convolutional layer,32 feature maps with a size of 3×3 and a rectifier activation function.\n",
        "model.add(Conv2D(32, (3, 3), activation='relu', padding='same', kernel_constraint=maxnorm(3)))\n",
        "# Max Pool layer with size 2×2.\n",
        "model.add(MaxPooling2D(pool_size=(2, 2)))\n",
        "# Flatten layer.\n",
        "model.add(Flatten())\n",
        "# Fully connected layer with 512 units and a rectifier activation function.\n",
        "model.add(Dense(512, activation='relu', kernel_constraint=maxnorm(3)))\n",
        "# Dropout layer at 50%.\n",
        "model.add(Dropout(0.5))\n",
        "# Fully connected output layer with 10 units and a Softmax activation function\n",
        "model.add(Dense(num_classes, activation='softmax'))"
      ],
      "execution_count": 43,
      "outputs": []
    },
    {
      "cell_type": "code",
      "metadata": {
        "id": "mlcLog3XRRn8",
        "outputId": "bc4dc03f-46a0-4a22-9431-e2ac7a056a19",
        "colab": {
          "base_uri": "https://localhost:8080/"
        }
      },
      "source": [
        "# Compile the model\n",
        "epochs = 5\n",
        "lrate = 0.01\n",
        "decay = lrate/epochs\n",
        "sgd = SGD(lr=lrate, momentum=0.9, decay=decay, nesterov=False)\n",
        "model.compile(loss='categorical_crossentropy', optimizer=sgd, metrics=['accuracy'])\n",
        "# Printing model summary\n",
        "print(model.summary())"
      ],
      "execution_count": 44,
      "outputs": [
        {
          "output_type": "stream",
          "text": [
            "Model: \"sequential_5\"\n",
            "_________________________________________________________________\n",
            "Layer (type)                 Output Shape              Param #   \n",
            "=================================================================\n",
            "conv2d_22 (Conv2D)           (None, 32, 32, 32)        896       \n",
            "_________________________________________________________________\n",
            "dropout_22 (Dropout)         (None, 32, 32, 32)        0         \n",
            "_________________________________________________________________\n",
            "conv2d_23 (Conv2D)           (None, 32, 32, 32)        9248      \n",
            "_________________________________________________________________\n",
            "max_pooling2d_11 (MaxPooling (None, 16, 16, 32)        0         \n",
            "_________________________________________________________________\n",
            "flatten_5 (Flatten)          (None, 8192)              0         \n",
            "_________________________________________________________________\n",
            "dense_13 (Dense)             (None, 512)               4194816   \n",
            "_________________________________________________________________\n",
            "dropout_23 (Dropout)         (None, 512)               0         \n",
            "_________________________________________________________________\n",
            "dense_14 (Dense)             (None, 10)                5130      \n",
            "=================================================================\n",
            "Total params: 4,210,090\n",
            "Trainable params: 4,210,090\n",
            "Non-trainable params: 0\n",
            "_________________________________________________________________\n",
            "None\n"
          ],
          "name": "stdout"
        }
      ]
    },
    {
      "cell_type": "code",
      "metadata": {
        "id": "QSsGiUluc2uY",
        "outputId": "2da5f72d-8da3-4ef3-bd5f-13bc08acd44c",
        "colab": {
          "base_uri": "https://localhost:8080/"
        }
      },
      "source": [
        "#Fit the model\n",
        "model.fit(X_train, y_train, validation_data=(X_test, y_test), epochs=epochs, batch_size=32)"
      ],
      "execution_count": 45,
      "outputs": [
        {
          "output_type": "stream",
          "text": [
            "Epoch 1/5\n",
            "1563/1563 [==============================] - 9s 5ms/step - loss: 1.6957 - accuracy: 0.3877 - val_loss: 1.3904 - val_accuracy: 0.5072\n",
            "Epoch 2/5\n",
            "1563/1563 [==============================] - 8s 5ms/step - loss: 1.3417 - accuracy: 0.5179 - val_loss: 1.2496 - val_accuracy: 0.5562\n",
            "Epoch 3/5\n",
            "1563/1563 [==============================] - 9s 6ms/step - loss: 1.2136 - accuracy: 0.5695 - val_loss: 1.1618 - val_accuracy: 0.5888\n",
            "Epoch 4/5\n",
            "1563/1563 [==============================] - 8s 5ms/step - loss: 1.1417 - accuracy: 0.5944 - val_loss: 1.1072 - val_accuracy: 0.6115\n",
            "Epoch 5/5\n",
            "1563/1563 [==============================] - 8s 5ms/step - loss: 1.0839 - accuracy: 0.6160 - val_loss: 1.0779 - val_accuracy: 0.6192\n"
          ],
          "name": "stdout"
        },
        {
          "output_type": "execute_result",
          "data": {
            "text/plain": [
              "<tensorflow.python.keras.callbacks.History at 0x7fe7e379c828>"
            ]
          },
          "metadata": {
            "tags": []
          },
          "execution_count": 45
        }
      ]
    },
    {
      "cell_type": "code",
      "metadata": {
        "id": "o6jXrTAydIyw",
        "outputId": "b65840ab-f602-4d88-8d83-78d9ef111b14",
        "colab": {
          "base_uri": "https://localhost:8080/"
        }
      },
      "source": [
        "#Evaluation of the model\n",
        "scores = model.evaluate(X_test, y_test, verbose=0)\n",
        "print(\"Accuracy: %.2f%%\" % (scores[1]*100))\n",
        "print('Test  loss:', scores[0])\n",
        "print('Test  accuracy:', scores[1])\n"
      ],
      "execution_count": 46,
      "outputs": [
        {
          "output_type": "stream",
          "text": [
            "Accuracy: 61.92%\n",
            "Test  loss: 1.0778902769088745\n",
            "Test  accuracy: 0.6191999912261963\n"
          ],
          "name": "stdout"
        }
      ]
    },
    {
      "cell_type": "code",
      "metadata": {
        "id": "-ZiZ9r5MdNYB"
      },
      "source": [
        "# Performance change\n",
        "# Create model m1\n",
        "m1 = Sequential()\n",
        "# m1.add(Conv2D(32, (3, 3), input_shape=(X_train.shape[1:]), padding='same', activation='relu'))\n",
        "m1.add(Conv2D(32, (3, 3), input_shape=(X_train.shape[1:]), padding='same', activation='relu'))\n",
        "# Dropout layer at 20%.\n",
        "m1.add(Dropout(0.2))\n",
        "# Convolutional layer, 32 feature maps with a size of 3×3 and a rectifier activation function.\n",
        "m1.add(Conv2D(32, (3, 3), activation='relu', padding='same'))\n",
        "# Max Pool layer with size 2×2.\n",
        "m1.add(MaxPooling2D(pool_size=(2, 2)))\n",
        "# Convolutional layer, 64 feature maps with a size of 3×3 and a rectifier activation function.\n",
        "m1.add(Conv2D(64, (3, 3), activation='relu', padding='same'))\n",
        "# Dropout layer at 20%.\n",
        "m1.add(Dropout(0.2))\n",
        "# Convolutional layer, 64 feature maps with a size of 3×3 and a rectifier activation function.\n",
        "m1.add(Conv2D(64, (3, 3), activation='relu', padding='same'))\n",
        "# Max Pool layer with size 2×2.\n",
        "m1.add(MaxPooling2D(pool_size=(2, 2)))\n",
        "# Convolutional layer, 128 feature maps with a size of 3×3 and a rectifier activation function.\n",
        "m1.add(Conv2D(128, (3, 3), activation='relu', padding='same'))\n",
        "# Dropout layer at 20%.\n",
        "m1.add(Dropout(0.2))\n",
        "# Convolutional layer,128 feature maps with a size of 3×3 and a rectifier activation function.\n",
        "m1.add(Conv2D(128, (3, 3), activation='relu', padding='same'))\n",
        "# Max Pool layer with size 2×2.\n",
        "m1.add(MaxPooling2D(pool_size=(2, 2)))\n",
        "# Flatten layer.\n",
        "m1.add(Flatten())\n",
        "# Dropout layer at 20%.\n",
        "m1.add(Dropout(0.2))\n",
        "# Fully connected layer with 1024 units and a rectifier activation function.\n",
        "m1.add(Dense(1024, activation='relu', kernel_constraint=maxnorm(3)))\n",
        "# Dropout layer at 20%.\n",
        "m1.add(Dropout(0.2))\n",
        "# Fully connected layer with 512 units and a rectifier activation function.\n",
        "m1.add(Dense(512, activation='relu', kernel_constraint=maxnorm(3)))\n",
        "# Dropout layer at 20%.\n",
        "m1.add(Dropout(0.2))\n",
        "# Fully connected output layer with 10 units and a Softmax activation function\n",
        "m1.add(Dense(num_classes, activation='softmax'))"
      ],
      "execution_count": 48,
      "outputs": []
    },
    {
      "cell_type": "code",
      "metadata": {
        "id": "JcuxpwhldoFb",
        "outputId": "f3cdfa99-4076-47b7-dab8-92cbb4569e98",
        "colab": {
          "base_uri": "https://localhost:8080/"
        }
      },
      "source": [
        "# compile the model\n",
        "epochs = 5\n",
        "lrate = 0.01\n",
        "decay = lrate/epochs\n",
        "sgd = Adam(lr=lrate)\n",
        "m1.compile(loss='categorical_crossentropy', optimizer=sgd, metrics=['accuracy'])\n",
        "# printing the summary of model m1\n",
        "print(m1.summary())"
      ],
      "execution_count": 49,
      "outputs": [
        {
          "output_type": "stream",
          "text": [
            "Model: \"sequential_7\"\n",
            "_________________________________________________________________\n",
            "Layer (type)                 Output Shape              Param #   \n",
            "=================================================================\n",
            "conv2d_30 (Conv2D)           (None, 32, 32, 32)        896       \n",
            "_________________________________________________________________\n",
            "dropout_30 (Dropout)         (None, 32, 32, 32)        0         \n",
            "_________________________________________________________________\n",
            "conv2d_31 (Conv2D)           (None, 32, 32, 32)        9248      \n",
            "_________________________________________________________________\n",
            "max_pooling2d_15 (MaxPooling (None, 16, 16, 32)        0         \n",
            "_________________________________________________________________\n",
            "conv2d_32 (Conv2D)           (None, 16, 16, 64)        18496     \n",
            "_________________________________________________________________\n",
            "dropout_31 (Dropout)         (None, 16, 16, 64)        0         \n",
            "_________________________________________________________________\n",
            "conv2d_33 (Conv2D)           (None, 16, 16, 64)        36928     \n",
            "_________________________________________________________________\n",
            "max_pooling2d_16 (MaxPooling (None, 8, 8, 64)          0         \n",
            "_________________________________________________________________\n",
            "conv2d_34 (Conv2D)           (None, 8, 8, 128)         73856     \n",
            "_________________________________________________________________\n",
            "dropout_32 (Dropout)         (None, 8, 8, 128)         0         \n",
            "_________________________________________________________________\n",
            "conv2d_35 (Conv2D)           (None, 8, 8, 128)         147584    \n",
            "_________________________________________________________________\n",
            "max_pooling2d_17 (MaxPooling (None, 4, 4, 128)         0         \n",
            "_________________________________________________________________\n",
            "flatten_7 (Flatten)          (None, 2048)              0         \n",
            "_________________________________________________________________\n",
            "dropout_33 (Dropout)         (None, 2048)              0         \n",
            "_________________________________________________________________\n",
            "dense_18 (Dense)             (None, 1024)              2098176   \n",
            "_________________________________________________________________\n",
            "dropout_34 (Dropout)         (None, 1024)              0         \n",
            "_________________________________________________________________\n",
            "dense_19 (Dense)             (None, 512)               524800    \n",
            "_________________________________________________________________\n",
            "dropout_35 (Dropout)         (None, 512)               0         \n",
            "_________________________________________________________________\n",
            "dense_20 (Dense)             (None, 10)                5130      \n",
            "=================================================================\n",
            "Total params: 2,915,114\n",
            "Trainable params: 2,915,114\n",
            "Non-trainable params: 0\n",
            "_________________________________________________________________\n",
            "None\n"
          ],
          "name": "stdout"
        }
      ]
    },
    {
      "cell_type": "code",
      "metadata": {
        "id": "2w94SMamd7lL",
        "outputId": "d3e3c243-4f6b-4654-f7c2-faec3394e7db",
        "colab": {
          "base_uri": "https://localhost:8080/"
        }
      },
      "source": [
        "# fitting the model\n",
        "history = m1.fit(X_train, y_train, validation_data=(X_test, y_test), epochs=epochs, batch_size=128)"
      ],
      "execution_count": 50,
      "outputs": [
        {
          "output_type": "stream",
          "text": [
            "Epoch 1/5\n",
            "391/391 [==============================] - 6s 16ms/step - loss: 2.8526 - accuracy: 0.0992 - val_loss: 2.3031 - val_accuracy: 0.1000\n",
            "Epoch 2/5\n",
            "391/391 [==============================] - 6s 15ms/step - loss: 2.3034 - accuracy: 0.0967 - val_loss: 2.3030 - val_accuracy: 0.1000\n",
            "Epoch 3/5\n",
            "391/391 [==============================] - 6s 15ms/step - loss: 2.3034 - accuracy: 0.0971 - val_loss: 2.3028 - val_accuracy: 0.1000\n",
            "Epoch 4/5\n",
            "391/391 [==============================] - 6s 15ms/step - loss: 2.3032 - accuracy: 0.1017 - val_loss: 2.3032 - val_accuracy: 0.1000\n",
            "Epoch 5/5\n",
            "391/391 [==============================] - 6s 15ms/step - loss: 2.3033 - accuracy: 0.1001 - val_loss: 2.3031 - val_accuracy: 0.1000\n"
          ],
          "name": "stdout"
        }
      ]
    },
    {
      "cell_type": "markdown",
      "metadata": {
        "id": "WMk4zsNWeWlg"
      },
      "source": [
        "**Evaluating the Model**"
      ]
    },
    {
      "cell_type": "code",
      "metadata": {
        "id": "d3W7K7FYeDxd",
        "outputId": "9e5d16f1-1b68-4ea3-d525-99ac1270e90e",
        "colab": {
          "base_uri": "https://localhost:8080/"
        }
      },
      "source": [
        "# Evaluation of the model\n",
        "scores = m1.evaluate(X_test, y_test, verbose=1)\n",
        "# printing Test loss,test accuracy and Accuracy\n",
        "print('Test  loss:', scores[0])\n",
        "print('Test  accuracy:', scores[1])\n",
        "print(\"Accuracy: %.2f%%\" % (scores[1]*100))"
      ],
      "execution_count": 51,
      "outputs": [
        {
          "output_type": "stream",
          "text": [
            "313/313 [==============================] - 1s 4ms/step - loss: 2.3031 - accuracy: 0.1000\n",
            "Test  loss: 2.3030784130096436\n",
            "Test  accuracy: 0.10000000149011612\n",
            "Accuracy: 10.00%\n"
          ],
          "name": "stdout"
        }
      ]
    },
    {
      "cell_type": "markdown",
      "metadata": {
        "id": "nW-NKTsxekcQ"
      },
      "source": [
        "Prediction"
      ]
    },
    {
      "cell_type": "code",
      "metadata": {
        "id": "BQ9VyjJHetFE",
        "outputId": "84b5968c-95f5-41e2-df95-932d7a2dc440",
        "colab": {
          "base_uri": "https://localhost:8080/"
        }
      },
      "source": [
        "#prediction\n",
        "y=model.predict_classes(X_train[[1],:])\n",
        "print(y[0])"
      ],
      "execution_count": 52,
      "outputs": [
        {
          "output_type": "stream",
          "text": [
            "9\n"
          ],
          "name": "stdout"
        }
      ]
    },
    {
      "cell_type": "code",
      "metadata": {
        "id": "-VIOqcJUfztU",
        "outputId": "261bd0d2-bdd6-4282-9ee1-681b3cca57f3",
        "colab": {
          "base_uri": "https://localhost:8080/",
          "height": 1000
        }
      },
      "source": [
        "##-------------------------------------------------------------------------------------------------------------\n",
        "# Student Name : Harshita Patil\n",
        "# Code for Question 2\n",
        "# Description: A program to predict the 4 images of the test data, then to print the actual label for those 4 images \n",
        "# To check if the model predicted correctly or not.\n",
        "##-------------------------------------------------------------------------------------------------------------\n",
        "\n",
        "# Predicting the first four images of the test dataset\n",
        "import matplotlib.pyplot as plt\n",
        "for i in range(1,5):\n",
        "  plt.imshow(X_test[i,:,:])  \n",
        "  plt.show()\n",
        "  y=model.predict_classes(X_test[[i],:])\n",
        "  print(\"actual\",yp[i],\"predicted\",y[0])"
      ],
      "execution_count": 56,
      "outputs": [
        {
          "output_type": "display_data",
          "data": {
            "image/png": "[encoded data removed]",
            "text/plain": [
              "<Figure size 432x288 with 1 Axes>"
            ]
          },
          "metadata": {
            "tags": [],
            "needs_background": "light"
          }
        },
        {
          "output_type": "stream",
          "text": [
            "actual [8] predicted 1\n"
          ],
          "name": "stdout"
        },
        {
          "output_type": "display_data",
          "data": {
            "image/png": "[encoded data removed]",
            "text/plain": [
              "<Figure size 432x288 with 1 Axes>"
            ]
          },
          "metadata": {
            "tags": [],
            "needs_background": "light"
          }
        },
        {
          "output_type": "stream",
          "text": [
            "actual [8] predicted 8\n"
          ],
          "name": "stdout"
        },
        {
          "output_type": "display_data",
          "data": {
            "image/png": "[encoded data removed]",
            "text/plain": [
              "<Figure size 432x288 with 1 Axes>"
            ]
          },
          "metadata": {
            "tags": [],
            "needs_background": "light"
          }
        },
        {
          "output_type": "stream",
          "text": [
            "actual [0] predicted 8\n"
          ],
          "name": "stdout"
        },
        {
          "output_type": "display_data",
          "data": {
            "image/png": "[encoded data removed]",
            "text/plain": [
              "<Figure size 432x288 with 1 Axes>"
            ]
          },
          "metadata": {
            "tags": [],
            "needs_background": "light"
          }
        },
        {
          "output_type": "stream",
          "text": [
            "actual [6] predicted 4\n"
          ],
          "name": "stdout"
        }
      ]
    },
    {
      "cell_type": "code",
      "metadata": {
        "id": "zbq4e4yM6ZBb",
        "outputId": "f9d0803d-9329-4853-8bba-96c9d1b3b1be",
        "colab": {
          "base_uri": "https://localhost:8080/",
          "height": 295
        }
      },
      "source": [
        "##-------------------------------------------------------------------------------------------------------------\n",
        "# Student Name : Harshita Patil\n",
        "# Code for Question 3\n",
        "# Description: Visualizing the Loss and Accuracy using the history object.\n",
        "##-------------------------------------------------------------------------------------------------------------\n",
        "\n",
        "# Plotting History for accuracy\n",
        "plt.plot(history.history['accuracy'])\n",
        "plt.plot(history.history['val_accuracy'])\n",
        "# Printing Title\n",
        "plt.title('model accuracy')\n",
        "# y label as loss\n",
        "plt.ylabel('accuracy')\n",
        "# x label as epoch\n",
        "plt.xlabel('epoch')\n",
        "# Placing a legend on 'train' and 'test'\n",
        "plt.legend(['train', 'test'], loc='upper left')\n",
        "# To show the graph\n",
        "plt.show()"
      ],
      "execution_count": 58,
      "outputs": [
        {
          "output_type": "display_data",
          "data": {
            "image/png": "[encoded data removed]",
            "text/plain": [
              "<Figure size 432x288 with 1 Axes>"
            ]
          },
          "metadata": {
            "tags": [],
            "needs_background": "light"
          }
        }
      ]
    },
    {
      "cell_type": "code",
      "metadata": {
        "id": "W1eYV9Qa6i2W",
        "outputId": "e1d92275-20cc-4941-eac3-529d303b099b",
        "colab": {
          "base_uri": "https://localhost:8080/",
          "height": 295
        }
      },
      "source": [
        "# Plotting History for loss\n",
        "plt.plot(history.history['loss'])\n",
        "plt.plot(history.history['val_loss'])\n",
        "# Printing Title\n",
        "plt.title('model loss')\n",
        "# y label as loss\n",
        "plt.ylabel('loss')\n",
        "# x label as epoch\n",
        "plt.xlabel('epoch')\n",
        "# Placing a legend on 'train' and 'test'\n",
        "plt.legend(['train', 'test'], loc='upper left')\n",
        "# To show the graph\n",
        "plt.show()"
      ],
      "execution_count": 37,
      "outputs": [
        {
          "output_type": "display_data",
          "data": {
            "image/png": "[encoded data removed]",
            "text/plain": [
              "<Figure size 432x288 with 1 Axes>"
            ]
          },
          "metadata": {
            "tags": [],
            "needs_background": "light"
          }
        }
      ]
    },
    {
      "cell_type": "code",
      "metadata": {
        "id": "pjwmQHeoC-PH"
      },
      "source": [
        "#saving the model in the format of .h5\n",
        "m1.save(\"my_model.h5\")"
      ],
      "execution_count": 67,
      "outputs": []
    },
    {
      "cell_type": "code",
      "metadata": {
        "id": "RoKIK_YiJRTI"
      },
      "source": [
        "##-------------------------------------------------------------------------------------------------------------\n",
        "# Student Name : Harshita Patil\n",
        "# Code for BONUS QUESTION\n",
        "# Description: Programming the question 2 - Using the saved model (.h5 model)\n",
        "##-------------------------------------------------------------------------------------------------------------\n",
        "#reading the saved format data\n",
        "# Imported the necessary libarraies\n",
        "import tensorflow as tf\n",
        "from tensorflow import keras\n",
        "\n",
        "#New model has the model data saved in h5 format\n",
        "new_model = tf.keras.models.load_model('my_model.h5') "
      ],
      "execution_count": 69,
      "outputs": []
    },
    {
      "cell_type": "code",
      "metadata": {
        "id": "OK7F46b4JdA8",
        "outputId": "b8c0dc35-5fd9-41ba-9b25-7265489fd07b",
        "colab": {
          "base_uri": "https://localhost:8080/",
          "height": 1000
        }
      },
      "source": [
        "#Bonus Question\n",
        "#New model has the model data saved in h5 format\n",
        "\n",
        "# Predicting the first four images of the h5 model\n",
        "import matplotlib.pyplot as plt\n",
        "for i in range(1,5):\n",
        "  plt.imshow(X_test[i,:,:])  \n",
        "  plt.show()\n",
        "  y=new_model.predict_classes(X_test[[i],:])\n",
        "  print(\"actual\",yp[i],\"predicted\",y[0])"
      ],
      "execution_count": 70,
      "outputs": [
        {
          "output_type": "display_data",
          "data": {
            "image/png": "[encoded data removed]",
            "text/plain": [
              "<Figure size 432x288 with 1 Axes>"
            ]
          },
          "metadata": {
            "tags": [],
            "needs_background": "light"
          }
        },
        {
          "output_type": "stream",
          "text": [
            "actual [8] predicted 2\n"
          ],
          "name": "stdout"
        },
        {
          "output_type": "display_data",
          "data": {
            "image/png": "[encoded data removed]",
            "text/plain": [
              "<Figure size 432x288 with 1 Axes>"
            ]
          },
          "metadata": {
            "tags": [],
            "needs_background": "light"
          }
        },
        {
          "output_type": "stream",
          "text": [
            "actual [8] predicted 2\n"
          ],
          "name": "stdout"
        },
        {
          "output_type": "display_data",
          "data": {
            "image/png": "[encoded data removed]",
            "text/plain": [
              "<Figure size 432x288 with 1 Axes>"
            ]
          },
          "metadata": {
            "tags": [],
            "needs_background": "light"
          }
        },
        {
          "output_type": "stream",
          "text": [
            "actual [0] predicted 2\n"
          ],
          "name": "stdout"
        },
        {
          "output_type": "display_data",
          "data": {
            "image/png": "[encoded data removed]",
            "text/plain": [
              "<Figure size 432x288 with 1 Axes>"
            ]
          },
          "metadata": {
            "tags": [],
            "needs_background": "light"
          }
        },
        {
          "output_type": "stream",
          "text": [
            "actual [6] predicted 2\n"
          ],
          "name": "stdout"
        }
      ]
    }
  ]
}